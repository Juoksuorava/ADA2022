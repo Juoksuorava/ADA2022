{
 "cells": [
  {
   "cell_type": "markdown",
   "metadata": {},
   "source": [
    "# 1. Nested cross-validation exercise\n",
    "\n",
    "## Nested cross-validation for k-nearest neighbors <br>\n",
    "- Use Python 3 to program a nested leave-one-out cross-validation for the k-nearest neighbors (kNN) method so that the number of neighbours k is automatically selected from the set k = [3, 5, 7, 9, 11]. In other words, the base learning algorithm is kNN but the actual learning algorithm, whose prediction performance will be evaluated with nested CV, is kNN with automatic CV-based model selection (see the lectures and the pseudo codes presented on them for more info on this interpretation). \n",
    "- Compare the C-index produced by nested leave-one-out CV with normal leave-one-out cross-validation with the best value of k.  \n",
    "- As a kNN implementation, use the provided kNN and C-index functions in your exercise.\n",
    "- Use the CV implementations on the provided subsampled iris data (100 randomly drawn data points from iris) and report the resulting classification accuracy via C-index. Hint: you can use the nested CV example provided on sklearn documentation: https://scikit-learn.org/stable/auto_examples/model_selection/plot_nested_cross_validation_iris.html as a starting point, but do NOT use the ready made CV implementations of sklearn.\n",
    "\n",
    "As a summary, for completing this exercise implement the following steps: \n",
    "_______________________________________________________________\n",
    "#### 1. Use leave-one-out cross-validation for determining the optimal k-parameter for the data (X.csv, y.csv) from the set k = [3,5,7,9,11]. When you have solved the optimal k-parameter, save the corresponding C-index (call it loo_c_index) for this best value of k.\n",
    "#### 2. Similarly, use nested leave-one-out cross-validation (leave-one-out both in outer and inner folds) for determining the C-index (call it nloo_c_index) of the kNN + leave-one-out cross-validation based k selection  approach. \n",
    "#### 3. Return both this notebook and as a PDF-file made from it in the exercise submit page. \n",
    "_______________________________________________________________\n",
    "\n",
    "Remember to use the provided C-index and kNN functions in your implementation! "
   ]
  },
  {
   "cell_type": "markdown",
   "metadata": {},
   "source": [
    "## Import libraries and data"
   ]
  },
  {
   "cell_type": "code",
   "execution_count": 43,
   "metadata": {},
   "outputs": [],
   "source": [
    "#In this cell import all libraries you need. For example: \n",
    "import numpy as np\n",
    "import pandas as pd\n",
    "import sklearn.model_selection\n",
    "import matplotlib.pyplot as plt\n",
    "\n",
    "X = pd.read_csv('data/X.csv').to_numpy()\n",
    "y = pd.read_csv('data/y.csv').to_numpy()"
   ]
  },
  {
   "cell_type": "markdown",
   "metadata": {},
   "source": [
    "## Provided functions "
   ]
  },
  {
   "cell_type": "code",
   "execution_count": 44,
   "metadata": {},
   "outputs": [],
   "source": [
    "\"\"\"\n",
    "C-index function: \n",
    "- INPUTS: \n",
    "'y' an array of the true output values\n",
    "'yp' an array of predicted output values\n",
    "- OUTPUT: \n",
    "The c-index value\n",
    "\"\"\"\n",
    "def cindex(y, yp):\n",
    "    n = 0\n",
    "    h_num = 0 \n",
    "    for i in range(0, len(y)):\n",
    "        t = y[i]\n",
    "        p = yp[i]\n",
    "        for j in range(i+1, len(y)):\n",
    "            nt = y[j]\n",
    "            np = yp[j]\n",
    "            if (t != nt): \n",
    "                n = n + 1\n",
    "                if (p < np and t < nt) or (p > np and t > nt): \n",
    "                    h_num += 1\n",
    "                elif (p == np):\n",
    "                    h_num += 0.5\n",
    "    return h_num/n\n",
    "\n",
    "\"\"\"\n",
    "Self-contained k-nearest neighbor\n",
    "- INPUTS: \n",
    "'X_train' a numpy matrix of the X-features of the train data points\n",
    "'y_train' a numpy matrix of the output values of the train data points\n",
    "'X_test' a numpy matrix of the X-features of the test data points\n",
    "'k' the k-parameter integer value for kNN\n",
    "- OUTPUT: \n",
    "'y_predictions' a list of the output value predictions\n",
    "\"\"\"\n",
    "def knn(X_train, y_train, X_test, k):\n",
    "    y_train = np.array(y_train, dtype=int)\n",
    "    y_predictions = []\n",
    "    for test_ind in range(0, X_test.shape[0]):\n",
    "        diff = X_test[test_ind, :].reshape(1, -1) - X_train\n",
    "        distances = np.sqrt(np.sum(diff * diff, axis = 1))\n",
    "        sort_inds = np.array(np.argsort(distances), dtype=int)\n",
    "        counts = np.bincount(y_train[sort_inds[0:k]])\n",
    "        y_predictions.append(np.argmax(counts))\n",
    "    return y_predictions"
   ]
  },
  {
   "cell_type": "markdown",
   "metadata": {},
   "source": [
    "## Your implementation here"
   ]
  },
  {
   "cell_type": "markdown",
   "metadata": {},
   "source": [
    "####  Determine optimal k-parameter using LOOCV\n"
   ]
  },
  {
   "cell_type": "code",
   "execution_count": 45,
   "metadata": {},
   "outputs": [
    {
     "data": {
      "text/plain": [
       "(7, 0.9742804654011022)"
      ]
     },
     "execution_count": 45,
     "metadata": {},
     "output_type": "execute_result"
    }
   ],
   "source": [
    "def find_best_k(X, y, loo):\n",
    "    kSet = [3, 5, 7, 9, 11]\n",
    "    loo_c_index = 0\n",
    "    # Try for every k in our parameter set\n",
    "    for k in kSet:\n",
    "\n",
    "        y_preds = []\n",
    "\n",
    "        for train_i, test_i in loo.split(X):\n",
    "\n",
    "            # Prepare train and test datasets\n",
    "            X_train, X_test = X[train_i], X[test_i]\n",
    "            y_train, y_test = y[train_i].reshape(-1), y[test_i].reshape(-1)\n",
    "\n",
    "            # Calculate kNN predictions using the given function\n",
    "            y_preds.append(knn(X_train, y_train, X_test, k))\n",
    "\n",
    "        # Calculate C-index with the given function\n",
    "        c_index = cindex(y, y_preds)\n",
    "        #print(\"For k-parameter \" + str(k) + \" C-index is \" + str(c_index))\n",
    "\n",
    "        # Replace optimal k-parameter and C-index if necessary\n",
    "        if c_index >= loo_c_index:\n",
    "            loo_c_index = c_index\n",
    "            best_k = k\n",
    "\n",
    "    #print(\"Optimal k-parameter is \" + str(best_k) + \" where C-index is \" + str(loo_c_index))\n",
    "    return best_k, loo_c_index\n",
    "\n",
    "loo = sklearn.model_selection.LeaveOneOut()\n",
    "find_best_k(X, y, loo)"
   ]
  },
  {
   "cell_type": "markdown",
   "metadata": {},
   "source": [
    "#### Determine C-index of previous selection using NLOOCV"
   ]
  },
  {
   "cell_type": "code",
   "execution_count": 50,
   "metadata": {},
   "outputs": [
    {
     "name": "stdout",
     "output_type": "stream",
     "text": [
      "C-index average of LOOCV:  0.9745928694670772\n"
     ]
    }
   ],
   "source": [
    "# Prepare variables\n",
    "loo_outer = sklearn.model_selection.LeaveOneOut()\n",
    "nloo_c_index_list = []\n",
    "\n",
    "# Start outer loop\n",
    "for train_ix, test_ix in loo_outer.split(X):\n",
    "    \n",
    "    # Split into training and test sets\n",
    "    X_train, X_test = X[train_ix, :], X[test_ix, :]\n",
    "    y_train, y_test = y[train_ix].reshape(-1), y[test_ix].reshape(-1)\n",
    "\n",
    "    # Prepare inner leave-one-out loop\n",
    "    loo_inner = sklearn.model_selection.LeaveOneOut()\n",
    "\n",
    "    # Use previous function to find C-index values\n",
    "    best_nk, nloo_c_index = find_best_k(X_train, y_train, loo_inner)\n",
    "    nloo_c_index_list.append(nloo_c_index)\n",
    "\n",
    "print(\"C-index average of LOOCV: \", np.mean(nloo_c_index_list))"
   ]
  }
 ],
 "metadata": {
  "kernelspec": {
   "display_name": "Python 3 (ipykernel)",
   "language": "python",
   "name": "python3"
  },
  "language_info": {
   "codemirror_mode": {
    "name": "ipython",
    "version": 3
   },
   "file_extension": ".py",
   "mimetype": "text/x-python",
   "name": "python",
   "nbconvert_exporter": "python",
   "pygments_lexer": "ipython3",
   "version": "3.9.1"
  },
  "toc": {
   "base_numbering": 1,
   "nav_menu": {},
   "number_sections": false,
   "sideBar": true,
   "skip_h1_title": false,
   "title_cell": "Table of Contents",
   "title_sidebar": "Contents",
   "toc_cell": false,
   "toc_position": {},
   "toc_section_display": true,
   "toc_window_display": true
  },
  "varInspector": {
   "cols": {
    "lenName": 16,
    "lenType": 16,
    "lenVar": 40
   },
   "kernels_config": {
    "python": {
     "delete_cmd_postfix": "",
     "delete_cmd_prefix": "del ",
     "library": "var_list.py",
     "varRefreshCmd": "print(var_dic_list())"
    },
    "r": {
     "delete_cmd_postfix": ") ",
     "delete_cmd_prefix": "rm(",
     "library": "var_list.r",
     "varRefreshCmd": "cat(var_dic_list()) "
    }
   },
   "types_to_exclude": [
    "module",
    "function",
    "builtin_function_or_method",
    "instance",
    "_Feature"
   ],
   "window_display": false
  }
 },
 "nbformat": 4,
 "nbformat_minor": 2
}
