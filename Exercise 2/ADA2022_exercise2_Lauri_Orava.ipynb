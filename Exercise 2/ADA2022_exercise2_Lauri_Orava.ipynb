{
 "cells": [
  {
   "cell_type": "markdown",
   "metadata": {},
   "source": [
    "# Exercise 2 | TKO_2096 Application of Data Analysis 2022"
   ]
  },
  {
   "cell_type": "markdown",
   "metadata": {},
   "source": [
    "#### Prediction of the metal ion content from multi-parameter data <br>\n",
    "- Use K-Nearest Neighbor Regression with euclidean distance to predict total metal concentration (c_total), concentration of Cadmium (Cd) and concentration of Lead (Pb), for each sample using number of neighbors k = 3.<br> <br>\n",
    "\n",
    "    - You may use Nearest Neighbor Regression from https://scikit-learn.org/stable/modules/neighbors.html\n",
    "    - The data should be standarized using z-score. (Using sklearn.preprocessing.StandardScaler is allowed)\n",
    "    - Implement your own Leave-One-Out cross-validation and calculate the C-index for each output (c_total, Cd, Pb). \n",
    "    - Implement your own Leave-Replicas-Out cross-validation and calculate the C-index for each output (c_total, Cd, Pb).\n",
    "    - Return your solution as a Jupyter Notebook file (include your full name in the file name).\n",
    "    - Submit to moodle your solution on ** Sunday 6 of February** at the latest."
   ]
  },
  {
   "cell_type": "markdown",
   "metadata": {},
   "source": [
    "## Import libraries"
   ]
  },
  {
   "cell_type": "code",
   "execution_count": 13,
   "metadata": {},
   "outputs": [],
   "source": [
    "#In this cell import all libraries you need. For example: \n",
    "import numpy as np\n",
    "import pandas as pd\n",
    "import matplotlib.pyplot as plt\n",
    "\n",
    "from sklearn.preprocessing import StandardScaler\n",
    "from sklearn.neighbors import KNeighborsRegressor"
   ]
  },
  {
   "cell_type": "markdown",
   "metadata": {},
   "source": [
    "## Read and visualize the dataset"
   ]
  },
  {
   "cell_type": "code",
   "execution_count": 11,
   "metadata": {},
   "outputs": [
    {
     "name": "stdout",
     "output_type": "stream",
     "text": [
      "(268, 6)\n"
     ]
    },
    {
     "data": {
      "text/html": [
       "<div>\n",
       "<style scoped>\n",
       "    .dataframe tbody tr th:only-of-type {\n",
       "        vertical-align: middle;\n",
       "    }\n",
       "\n",
       "    .dataframe tbody tr th {\n",
       "        vertical-align: top;\n",
       "    }\n",
       "\n",
       "    .dataframe thead th {\n",
       "        text-align: right;\n",
       "    }\n",
       "</style>\n",
       "<table border=\"1\" class=\"dataframe\">\n",
       "  <thead>\n",
       "    <tr style=\"text-align: right;\">\n",
       "      <th></th>\n",
       "      <th>c_total</th>\n",
       "      <th>Cd</th>\n",
       "      <th>Pb</th>\n",
       "      <th>Mod1</th>\n",
       "      <th>Mod2</th>\n",
       "      <th>Mod3</th>\n",
       "    </tr>\n",
       "  </thead>\n",
       "  <tbody>\n",
       "    <tr>\n",
       "      <th>0</th>\n",
       "      <td>200</td>\n",
       "      <td>40.0</td>\n",
       "      <td>160.0</td>\n",
       "      <td>161962</td>\n",
       "      <td>15145</td>\n",
       "      <td>62580</td>\n",
       "    </tr>\n",
       "    <tr>\n",
       "      <th>1</th>\n",
       "      <td>50</td>\n",
       "      <td>50.0</td>\n",
       "      <td>0.0</td>\n",
       "      <td>223761</td>\n",
       "      <td>24903</td>\n",
       "      <td>146178</td>\n",
       "    </tr>\n",
       "    <tr>\n",
       "      <th>2</th>\n",
       "      <td>20</td>\n",
       "      <td>8.0</td>\n",
       "      <td>12.0</td>\n",
       "      <td>12939</td>\n",
       "      <td>133</td>\n",
       "      <td>108785</td>\n",
       "    </tr>\n",
       "    <tr>\n",
       "      <th>3</th>\n",
       "      <td>50</td>\n",
       "      <td>30.0</td>\n",
       "      <td>20.0</td>\n",
       "      <td>49520</td>\n",
       "      <td>2261</td>\n",
       "      <td>210270</td>\n",
       "    </tr>\n",
       "    <tr>\n",
       "      <th>4</th>\n",
       "      <td>1000</td>\n",
       "      <td>200.0</td>\n",
       "      <td>800.0</td>\n",
       "      <td>172842</td>\n",
       "      <td>2668</td>\n",
       "      <td>8762</td>\n",
       "    </tr>\n",
       "  </tbody>\n",
       "</table>\n",
       "</div>"
      ],
      "text/plain": [
       "   c_total     Cd     Pb    Mod1   Mod2    Mod3\n",
       "0      200   40.0  160.0  161962  15145   62580\n",
       "1       50   50.0    0.0  223761  24903  146178\n",
       "2       20    8.0   12.0   12939    133  108785\n",
       "3       50   30.0   20.0   49520   2261  210270\n",
       "4     1000  200.0  800.0  172842   2668    8762"
      ]
     },
     "execution_count": 11,
     "metadata": {},
     "output_type": "execute_result"
    }
   ],
   "source": [
    "#In this cell read the file Water_data.csv\n",
    "df = pd.read_csv('data/Water_data.csv')\n",
    "#Print the dataset dimesions (i.e. number of rows and columns)\n",
    "print(df.shape)\n",
    "#Print the first 5 rows of the dataset\n",
    "df.head()"
   ]
  },
  {
   "cell_type": "markdown",
   "metadata": {},
   "source": [
    "#### To show understanding of the data, answer the following questions:\n",
    "- How many different mixtures of Cadmium (Cd) and Lead (Pb) were measured? <br>\n",
    "67\n",
    "- How many total concentrations (c_total) were measured? <br>\n",
    "12\n",
    "- How many mixtures have less than 4 replicas? <br>\n",
    "0\n",
    "- Make plots of Lead (Pb) and Cadmium (Cd) mixtures for low and high concentrations. <br>\n",
    "Where low concentrations are those with c_total <= 100, while in high concentration c_total > 100.<br>\n",
    "Hint: plots are similar to the ones presented in the video lecture.  "
   ]
  },
  {
   "cell_type": "code",
   "execution_count": 3,
   "metadata": {},
   "outputs": [
    {
     "name": "stdout",
     "output_type": "stream",
     "text": [
      "(67, 2)\n",
      "(12, 1)\n",
      "0\n"
     ]
    },
    {
     "data": {
      "image/png": "[encoded data removed]",
      "text/plain": [
       "<Figure size 720x504 with 1 Axes>"
      ]
     },
     "metadata": {
      "needs_background": "light"
     },
     "output_type": "display_data"
    },
    {
     "data": {
      "image/png": "[encoded data removed]",
      "text/plain": [
       "<Figure size 720x504 with 1 Axes>"
      ]
     },
     "metadata": {
      "needs_background": "light"
     },
     "output_type": "display_data"
    }
   ],
   "source": [
    "#In this cell write the code to answer the previous questions and print the answers.\n",
    "print(df[['Cd', 'Pb']].drop_duplicates().shape)\n",
    "print(df[['c_total']].drop_duplicates().shape)\n",
    "\n",
    "d_total = 0\n",
    "for index, row in df.iterrows():\n",
    "    cd1 = row['Cd']\n",
    "    pb1 = row['Pb']\n",
    "    d_amount = 0\n",
    "    d_boolean = False\n",
    "    for index, row in df.iterrows():\n",
    "        cd2 = row['Cd']\n",
    "        pb2 = row['Pb']\n",
    "        if cd1 == cd2 and pb1 == pb2:\n",
    "            d_boolean = True\n",
    "            d_amount =+ 1\n",
    "            if d_amount < 4:\n",
    "                d_boolean = False\n",
    "                break\n",
    "    if d_boolean:\n",
    "        d_total =+ 1\n",
    "\n",
    "print(d_total)\n",
    "\n",
    "low_c = df[df.c_total <= 100]\n",
    "high_c = df[df.c_total > 100]\n",
    "\n",
    "plt.figure(figsize=(10,7))\n",
    "plt.title(\"Plot of Pb and Cd mixtures in high concentrations\", fontsize=22)\n",
    "plt.xlabel(\"Lead\", fontsize=16)\n",
    "plt.ylabel(\"Cadmium\", fontsize=16)\n",
    "plt.scatter(high_c['Pb'], high_c['Cd'], color='green')\n",
    "plt.show()\n",
    "\n",
    "plt.figure(figsize=(10,7))\n",
    "plt.title(\"Plot of Pb and Cd mixtures in low concentrations\", fontsize=22)\n",
    "plt.xlabel(\"Lead\", fontsize=16)\n",
    "plt.ylabel(\"Cadmium\", fontsize=16)\n",
    "plt.scatter(low_c['Pb'], low_c['Cd'], color='navy')\n",
    "plt.show()"
   ]
  },
  {
   "cell_type": "markdown",
   "metadata": {},
   "source": [
    "## Standardization of the dataset"
   ]
  },
  {
   "cell_type": "code",
   "execution_count": 24,
   "metadata": {},
   "outputs": [
    {
     "name": "stdout",
     "output_type": "stream",
     "text": [
      "   c_total     Cd     Pb      Mod1      Mod2      Mod3\n",
      "0      200   40.0  160.0  0.593817  0.648476 -0.515882\n",
      "1       50   50.0    0.0  1.230478  1.505017  0.835592\n",
      "2       20    8.0   12.0 -0.941438 -0.669253  0.231084\n",
      "3       50   30.0   20.0 -0.564576 -0.482460  1.871725\n",
      "4     1000  200.0  800.0  0.705904 -0.446735 -1.385922\n"
     ]
    }
   ],
   "source": [
    "#Standardize the dataset features by removing the mean and scaling to unit variance. \n",
    "#In other words, use z-score to scale the dataset features (Mod1, Mod2, Mod3) \n",
    "#Print the 5 first samples (i.e. rows) of the scaled dataset\n",
    "\n",
    "temp_mod = df[['Mod1', 'Mod2', 'Mod3']]\n",
    "\n",
    "sc = StandardScaler()\n",
    "mod = pd.DataFrame(sc.fit_transform(temp_mod))\n",
    "mod.columns = ['Mod1','Mod2','Mod3']\n",
    "\n",
    "#print(mod.head())\n",
    "\n",
    "cT = df['c_total']\n",
    "Cd = df['Cd']\n",
    "Pb = df['Pb']\n",
    "df2 = pd.concat([cT, Cd, Pb, mod], axis = 1)\n",
    "\n",
    "print(df2.head())"
   ]
  },
  {
   "cell_type": "markdown",
   "metadata": {},
   "source": [
    "## C-index code "
   ]
  },
  {
   "cell_type": "code",
   "execution_count": 25,
   "metadata": {},
   "outputs": [],
   "source": [
    "def cindex(true_labels, pred_labels):\n",
    "    n = 0\n",
    "    h_num = 0 \n",
    "    for i in range(0, len(true_labels)):\n",
    "        t = true_labels[i]\n",
    "        p = pred_labels[i]\n",
    "        for j in range(i+1, len(true_labels)):\n",
    "            nt = true_labels[j]\n",
    "            np = pred_labels[j]\n",
    "            if (t != nt): \n",
    "                n = n + 1\n",
    "                if (p < np and t < nt) or (p > np and t > nt): \n",
    "                    h_num += 1\n",
    "                elif (p == np):\n",
    "                    h_num += 0.5 \n",
    "    cindx = h_num  /n\n",
    "    return cindx"
   ]
  },
  {
   "cell_type": "code",
   "execution_count": 26,
   "metadata": {},
   "outputs": [
    {
     "name": "stdout",
     "output_type": "stream",
     "text": [
      "0.75\n"
     ]
    }
   ],
   "source": [
    "#test cindex function with following values\n",
    "true_labels = [-1, 1, 1, -1, 1]\n",
    "predictions = [0.60, 0.80, 0.75, 0.75, 0.70]\n",
    "cindx = cindex(true_labels, predictions)\n",
    "print(cindx)"
   ]
  },
  {
   "cell_type": "markdown",
   "metadata": {},
   "source": [
    "## Functions"
   ]
  },
  {
   "cell_type": "code",
   "execution_count": 27,
   "metadata": {},
   "outputs": [],
   "source": [
    "#Include here all the functions that you need to run in the data analysis part.\n",
    "def loo_cindex(X, y):\n",
    "\n",
    "    preds = []\n",
    "    X2 = X.copy()\n",
    "    y2 = y.copy()\n",
    "    \n",
    "    for i in range(0, len(X2)):\n",
    "\n",
    "        X_train = X2.drop([i])\n",
    "        y_train = y2.drop([i])\n",
    "        X_test = (np.asarray(X2.loc[i][:])).reshape(1, -1)\n",
    "\n",
    "        knn = KNeighborsRegressor(n_neighbors=3)\n",
    "        knn.fit(X_train.values, y_train)\n",
    "        pred = knn.predict(X_test)\n",
    "        preds.append(pred)\n",
    "        \n",
    "    return cindex(y2, preds)"
   ]
  },
  {
   "cell_type": "code",
   "execution_count": 33,
   "metadata": {},
   "outputs": [],
   "source": [
    "# Function lro_cindex assumes the data given as parameters is sorted\n",
    "def lro_cindex(data, el1, el2, X, y):\n",
    "\n",
    "    # Lists for folds, training set and predictions and also an indexer\n",
    "    folds = []\n",
    "    trains = []\n",
    "    preds = []\n",
    "    i = 0\n",
    "    # Loop through the given data\n",
    "    while i < len(data):\n",
    "        # Save the current row\n",
    "        tmp1 = el1[i]\n",
    "        tmp2 = el2[i]\n",
    "        # Initialize replicate rows counter\n",
    "        replicates = 0\n",
    "        # Check for replicated rows, if none: break loop\n",
    "        for j in range(i, len(data)):\n",
    "            if el1[j] == tmp1 and el2[j] == tmp2:\n",
    "                replicates += 1\n",
    "            else:\n",
    "                break\n",
    "        # Add saved rows to folds\n",
    "        folds.append(data.loc[i: i + replicates - 1])\n",
    "        # Remove the rows from the training set\n",
    "        rem = list(range(i, i + replicates))\n",
    "        trains.append(data.drop(rem))\n",
    "        # Skip the replica rows\n",
    "        i += replicates\n",
    "\n",
    "    for i in range(0, len(data)):\n",
    "        # This is for edge cases when the test set is one of the last rows\n",
    "        try:\n",
    "            train_all = trains[i]\n",
    "            fold_all = folds[i]\n",
    "        except:\n",
    "            pass\n",
    "        # Parameters should be: X = Mod1, Mod2, Mod3; y = 'c_tota'l/'Cd'/'Pb'\n",
    "        x_train = train_all[list(X)] \n",
    "        y_train = train_all[(y)] \n",
    "        x_test = fold_all[list(X)]\n",
    "        # kNN\n",
    "        knn = KNeighborsRegressor(n_neighbors = 3) \n",
    "        knn.fit(x_train, y_train)\n",
    "        pred = knn.predict(x_test)\n",
    "        preds.extend(pred)\n",
    "    # Return C-index score for prections\n",
    "    return(cindex(data[(y)],preds))"
   ]
  },
  {
   "cell_type": "markdown",
   "metadata": {},
   "source": [
    "## Results for Leave-One-Out cross-validation"
   ]
  },
  {
   "cell_type": "code",
   "execution_count": 30,
   "metadata": {},
   "outputs": [
    {
     "name": "stdout",
     "output_type": "stream",
     "text": [
      "C-index for total concentration using LOOCV:  0.8902431573802542\n",
      "C-index for Cd concentration using LOOCV:     0.8927877824858758\n",
      "C-index for Pb concentration using LOOCV:     0.8753383945386064\n"
     ]
    }
   ],
   "source": [
    "#In this cell write your own code for leave-One-Out cross-validation and print the corresponding results. \n",
    "#Note: using a leave-one-out cross-validation from an already made package (e.g. Scikit-learn) is not accepted.\n",
    "print('C-index for total concentration using LOOCV: ', loo_cindex(df[['Mod1', 'Mod2', 'Mod3']],  df['c_total']))\n",
    "print('C-index for Cd concentration using LOOCV:    ', loo_cindex(df[['Mod1', 'Mod2', 'Mod3']],  df['Cd']))\n",
    "print('C-index for Pb concentration using LOOCV:    ', loo_cindex(df[['Mod1', 'Mod2', 'Mod3']],  df['Pb']))"
   ]
  },
  {
   "cell_type": "markdown",
   "metadata": {},
   "source": [
    "## Results for Leave-Replicas-Out cross-validation"
   ]
  },
  {
   "cell_type": "markdown",
   "metadata": {},
   "source": []
  },
  {
   "cell_type": "code",
   "execution_count": 34,
   "metadata": {},
   "outputs": [
    {
     "name": "stdout",
     "output_type": "stream",
     "text": [
      "C-index for total concentration using LROCV:  0.8231152248289345\n",
      "C-index for Cd concentration using LROCV:     0.753545786252354\n",
      "C-index for Pb concentration using LROCV:     0.7628589924670434\n"
     ]
    }
   ],
   "source": [
    "#In this cell run your script for leave-Replicas-Out cross-validation and print the corresponding results.\n",
    "\n",
    "# Sort the data and save the labels\n",
    "df3 = df2.sort_values(by = ['Cd', 'Pb'])\n",
    "df3 = df3.reset_index(drop = True)\n",
    "Cd2 = df3['Cd']\n",
    "Pb2 = df3['Pb']\n",
    "labels = ['Mod1','Mod2','Mod3']\n",
    "\n",
    "print('C-index for total concentration using LROCV: ', lro_cindex(df3, Cd2, Pb2, labels, 'c_total'))\n",
    "print('C-index for Cd concentration using LROCV:    ', lro_cindex(df3, Cd2, Pb2, labels, 'Cd'))\n",
    "print('C-index for Pb concentration using LROCV:    ', lro_cindex(df3, Cd2, Pb2, labels, 'Pb'))"
   ]
  },
  {
   "cell_type": "markdown",
   "metadata": {},
   "source": [
    "## Interpretation of results\n",
    "#### Answer the following questions based on the results obtained\n",
    "- Which cross-validation approach had more optimistic results?\n",
    "- Which cross-validation generalize better on unseen data? Why?"
   ]
  },
  {
   "cell_type": "markdown",
   "metadata": {},
   "source": [
    "(Writing on a code block seems weird so I changed it to a markdown block)\n",
    "\n",
    "Based on the C-index results, the LOOCV approach had more optimistic results and therefore was better at ranking the data to correct order.\n",
    "\n",
    "However, our data has multiple replicas and using LROCV would therefore be a more realistic approach as it gives more realistic predictions.\n",
    "This also means it generalizes better on unseen data."
   ]
  }
 ],
 "metadata": {
  "kernelspec": {
   "display_name": "Python 3",
   "language": "python",
   "name": "python3"
  },
  "language_info": {
   "codemirror_mode": {
    "name": "ipython",
    "version": 3
   },
   "file_extension": ".py",
   "mimetype": "text/x-python",
   "name": "python",
   "nbconvert_exporter": "python",
   "pygments_lexer": "ipython3",
   "version": "3.9.1"
  },
  "toc": {
   "base_numbering": 1,
   "nav_menu": {},
   "number_sections": false,
   "sideBar": true,
   "skip_h1_title": false,
   "title_cell": "Table of Contents",
   "title_sidebar": "Contents",
   "toc_cell": false,
   "toc_position": {},
   "toc_section_display": true,
   "toc_window_display": true
  },
  "varInspector": {
   "cols": {
    "lenName": 16,
    "lenType": 16,
    "lenVar": 40
   },
   "kernels_config": {
    "python": {
     "delete_cmd_postfix": "",
     "delete_cmd_prefix": "del ",
     "library": "var_list.py",
     "varRefreshCmd": "print(var_dic_list())"
    },
    "r": {
     "delete_cmd_postfix": ") ",
     "delete_cmd_prefix": "rm(",
     "library": "var_list.r",
     "varRefreshCmd": "cat(var_dic_list()) "
    }
   },
   "types_to_exclude": [
    "module",
    "function",
    "builtin_function_or_method",
    "instance",
    "_Feature"
   ],
   "window_display": false
  }
 },
 "nbformat": 4,
 "nbformat_minor": 4
}
