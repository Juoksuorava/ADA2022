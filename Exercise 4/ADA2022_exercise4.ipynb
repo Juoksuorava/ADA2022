{
 "cells": [
  {
   "cell_type": "markdown",
   "metadata": {},
   "source": [
    "# TKO_2096 Applications of Data Analysis 2021\n",
    "## Exercise 4\n",
    "\n",
    "Complete the tasks given to you in the letter below. There are cells at the end of this notebook to which you are expected to write your code. Insert markdown cells as needed to describe your solution.\n",
    "\n",
    "The deadline of this exercise is **28.2.2021, 23:59 PM**.\n"
   ]
  },
  {
   "cell_type": "markdown",
   "metadata": {},
   "source": [
    "---\n",
    "\n",
    "Student name: \n",
    "\n",
    "Student number: \n",
    "\n",
    "Student email: \n",
    "\n",
    "---\n"
   ]
  },
  {
   "cell_type": "markdown",
   "metadata": {},
   "source": [
    "Dear Data Scientist,\n",
    "\n",
    "I have a task for you that concerns drug molecules and their targets. I have spent a lot of time in a laboratory to measure how strongly potential drug molecules bind to putative target molecules. I do not have enough resources to measure all possible drug-target pairs, so I would like to first predict their affinities and then measure only the most promising ones. I have already managed to create a model which I believe is good for this purpose. Its details are below.\n",
    "\n",
    "- algorithm: K-nearest neighbours regressor\n",
    "- parameters: K=20\n",
    "- training data: full data set\n",
    "\n",
    "The full data set is available as the files `input.data`, `output.data` and `pairs.data` for you to use. The first file contains the features of pairs, whereas the second contains their affinities. The third file contains the identifiers of the drug and target molecules of which the pairs are composed. The files are paired, i.e. the i<sup>*th*</sup> row in each file is about the same pair.\n",
    "\n",
    "I am not able to evaluate how well my model will perform when I will use it to predict the affinities of new drug-target pairs. I need you to evaluate the model for me. There are three distinct situations in which I want to use this model in the future.\n",
    "\n",
    "1. I did not have the resources to measure the affinities of all the known drug-target pairs in the laboratory, so I want to use the model to predict the affinities of the remaining pairs.\n",
    "2. I am confident that I will discover new potential drug molecules in the future, so I will want to use the model to predict their affinities to the currently known targets.\n",
    "3. Because new putative target molecules, too, will likely be identified in the future, I will also want to use the model to predict the affinities between the drug molecules I will discover and the target molecules somebody else will discover in the future.\n",
    "\n",
    "I need to get evaluation results from leave-one-out cross-validation with C-index. Please evaluate the generalisation performance of my model in the three situations and explain why your cross-validation methods are suitable for them.\n",
    "\n",
    "\n",
    "Yours sincerely, \\\n",
    "Bio Scientist\n",
    "\n",
    "\n",
    "PS. Follow all the general exercise guidelines stated in Moodle.\n",
    "\n",
    "---"
   ]
  },
  {
   "cell_type": "markdown",
   "metadata": {},
   "source": [
    "#### Import libraries"
   ]
  },
  {
   "cell_type": "code",
   "execution_count": 108,
   "metadata": {},
   "outputs": [],
   "source": [
    "# Import the libraries you need.\n",
    "import numpy as np\n",
    "from sklearn.preprocessing import StandardScaler\n",
    "from sklearn.neighbors import KNeighborsRegressor\n",
    "from IPython.display import display"
   ]
  },
  {
   "cell_type": "markdown",
   "metadata": {},
   "source": [
    "#### Load datasets"
   ]
  },
  {
   "cell_type": "code",
   "execution_count": 109,
   "metadata": {},
   "outputs": [
    {
     "data": {
      "text/plain": [
       "array([[6.53771, 7.04273, 7.30593, ..., 8.13992, 7.36155, 7.9893 ],\n",
       "       [4.26878, 4.05945, 4.40541, ..., 8.38097, 6.80756, 7.12181],\n",
       "       [7.24802, 5.96468, 7.02855, ..., 6.75104, 5.72958, 6.73456],\n",
       "       [3.00092, 3.33087, 3.57794, ..., 2.74684, 2.93389, 2.76753],\n",
       "       [4.34096, 3.79832, 5.67286, ..., 2.70133, 2.87879, 2.64117]])"
      ]
     },
     "metadata": {},
     "output_type": "display_data"
    },
    {
     "data": {
      "text/plain": [
       "(1500, 2500)"
      ]
     },
     "metadata": {},
     "output_type": "display_data"
    },
    {
     "data": {
      "text/plain": [
       "array([['\"D23\"', '\"T194\"'],\n",
       "       ['\"D9\"', '\"T270\"'],\n",
       "       ['\"D3\"', '\"T47\"'],\n",
       "       ['\"D49\"', '\"T222\"'],\n",
       "       ['\"D37\"', '\"T28\"']], dtype='<U6')"
      ]
     },
     "metadata": {},
     "output_type": "display_data"
    },
    {
     "data": {
      "text/plain": [
       "(1500, 2)"
      ]
     },
     "metadata": {},
     "output_type": "display_data"
    },
    {
     "data": {
      "text/plain": [
       "array([10000., 10000., 10000., 10000.,   270.])"
      ]
     },
     "metadata": {},
     "output_type": "display_data"
    },
    {
     "data": {
      "text/plain": [
       "(1500,)"
      ]
     },
     "metadata": {},
     "output_type": "display_data"
    }
   ],
   "source": [
    "# Read the data files (input.data, output.data, pairs.data).\n",
    "features = np.genfromtxt('./data/input.data', dtype=float)\n",
    "labels = np.genfromtxt('./data/output.data')\n",
    "pairs = np.genfromtxt('./data/pairs.data', dtype=str)\n",
    "# Visualize data for better understanding\n",
    "display(features[:5])\n",
    "display(features.shape)\n",
    "display(pairs[:5])\n",
    "display(pairs.shape)\n",
    "display(labels[:5])\n",
    "display(labels.shape)"
   ]
  },
  {
   "cell_type": "code",
   "execution_count": 110,
   "metadata": {},
   "outputs": [
    {
     "data": {
      "text/plain": [
       "array([[-0.07254638, -0.0444449 ,  0.01692479, ...,  0.30551428,\n",
       "         0.12096093,  0.25245676],\n",
       "       [-0.45635292, -0.52673984, -0.4564305 , ...,  0.34221223,\n",
       "         0.04160485,  0.12508838],\n",
       "       [ 0.04760788, -0.21872893, -0.02834271, ...,  0.09406829,\n",
       "        -0.11280997,  0.06823077],\n",
       "       [-0.67082095, -0.64452645, -0.59147088, ..., -0.51553947,\n",
       "        -0.51327748, -0.51422458],\n",
       "       [-0.44414313, -0.56895568, -0.24958685, ..., -0.52246801,\n",
       "        -0.52117026, -0.53277727]])"
      ]
     },
     "metadata": {},
     "output_type": "display_data"
    }
   ],
   "source": [
    "# Standardize features\n",
    "sc = StandardScaler()\n",
    "features_sc = np.asarray(sc.fit_transform(features))\n",
    "# Visualize to check for changes\n",
    "display(features_sc[:5])"
   ]
  },
  {
   "cell_type": "markdown",
   "metadata": {},
   "source": [
    "#### Write functions"
   ]
  },
  {
   "cell_type": "code",
   "execution_count": 111,
   "metadata": {},
   "outputs": [],
   "source": [
    "# C-index score function from previous exercises\n",
    "def cindex(true_labels, pred_labels):\n",
    "    n = 0\n",
    "    h_num = 0 \n",
    "    for i in range(0, len(true_labels)):\n",
    "        t = true_labels[i]\n",
    "        p = pred_labels[i]\n",
    "        for j in range(i+1, len(true_labels)):\n",
    "            nt = true_labels[j]\n",
    "            np = pred_labels[j]\n",
    "            if (t != nt): \n",
    "                n = n + 1\n",
    "                if (p < np and t < nt) or (p > np and t > nt): \n",
    "                    h_num += 1\n",
    "                elif (p == np):\n",
    "                    h_num += 0.5 \n",
    "    cindx = h_num  /n\n",
    "    return cindx"
   ]
  },
  {
   "cell_type": "code",
   "execution_count": 112,
   "metadata": {},
   "outputs": [],
   "source": [
    "# Function that calculates C-index score for LOO CV\n",
    "# Expects: X = data; y = labels; n = neighbors for kNN\n",
    "def loo_cv_cindex(X, y, n):\n",
    "    # List for predicted values\n",
    "    preds = []\n",
    "    # For all rows in data\n",
    "    for i in range(len(X)):\n",
    "        # Progress printer used in testing and for large datasets\n",
    "        # if (i % 100 == 0):\n",
    "            # print(i)\n",
    "        # Choose the ith row as test set and exclude ith row from train sets\n",
    "        X_test = X[i].reshape(1, -1)\n",
    "        X_train = np.delete(X, i, axis = 0) \n",
    "        y_train = np.delete(y, i, axis = 0)\n",
    "        # Basic kNN prediction making and saving to our predictions list\n",
    "        knn = KNeighborsRegressor(n_neighbors = n, metric = 'euclidean')\n",
    "        knn.fit(X_train, y_train)\n",
    "        pred = knn.predict(X_test)\n",
    "        preds.append(pred)\n",
    "    # Return C-index score\n",
    "    return cindex(y, preds)"
   ]
  },
  {
   "cell_type": "code",
   "execution_count": 113,
   "metadata": {},
   "outputs": [],
   "source": [
    "# Function that calculates C-index score for LOO CV when known targets are included\n",
    "# Expects: X = data; y = labels; targets = targets as column; n = neighbors for kNN\n",
    "def lpo_cv_index_target(X, y, targets, n):\n",
    "    # List for predicted values\n",
    "    preds = []\n",
    "    # For all rows in data\n",
    "    for i in range(len(X)):\n",
    "        # Progress printer used in testing and for large datasets\n",
    "        # if (i % 100 == 0):\n",
    "            # print(i)\n",
    "        # Save the ith target for train set selection\n",
    "        target = targets[i]\n",
    "        # Choose the ith row as test set\n",
    "        X_test = X[i].reshape(1, -1)\n",
    "        # Choose train sets from rows that don't include our ith target\n",
    "        X_train = X[(target != targets)]\n",
    "        y_train = y[(target != targets)]\n",
    "        # Basic kNN prediction making and saving to our predictions list\n",
    "        knn = KNeighborsRegressor(n_neighbors = n, metric='euclidean')\n",
    "        knn.fit(X_train, y_train)\n",
    "        pred = knn.predict(X_test)\n",
    "        preds.append(pred)\n",
    "    # Return C-index score\n",
    "    return cindex(y, preds)"
   ]
  },
  {
   "cell_type": "code",
   "execution_count": 114,
   "metadata": {},
   "outputs": [],
   "source": [
    "# Function that calculates C-index score for LOO CV when known targets and identifiers are included\n",
    "# Expects: X = data; y = labels; pairs = identifiers and targets as pairs; n = neighbors for kNN\n",
    "def lpo_cv_cindex_identify(X, y, pairs, n):\n",
    "    # List for predicted values\n",
    "    preds = []\n",
    "    # Extract columns from pairs\n",
    "    a = pairs[:, 0]\n",
    "    b = pairs[:, 1]\n",
    "    # For all rows in data\n",
    "    for i in range(len(X)):\n",
    "        # Progress printer used in testing and for large datasets\n",
    "        # if (i % 100 == 0):\n",
    "            # print(i)\n",
    "        # Save the ith pair of elements for train set selection\n",
    "        pair = pairs[i]\n",
    "        # Choose the ith row as test set\n",
    "        X_test = X[i].reshape(1, -1)\n",
    "        # Choose train sets from rows that don't include either of the elements in our ith pair\n",
    "        X_train = X[(pair[0] != a) & (pair[0] != b) & (pair[1] != a) & (pair[1] != b)]\n",
    "        y_train = y[(pair[0] != a) & (pair[0] != b) & (pair[1] != a) & (pair[1] != b)]\n",
    "        # Basic kNN prediction making and saving to our predictions list\n",
    "        knn = KNeighborsRegressor(n_neighbors = n, metric='euclidean')\n",
    "        knn.fit(X_train, y_train)\n",
    "        pred = knn.predict(X_test)\n",
    "        preds.append(pred)\n",
    "    # Return C-index score\n",
    "    return cindex(y, preds)"
   ]
  },
  {
   "cell_type": "markdown",
   "metadata": {},
   "source": [
    "#### Run cross-validations"
   ]
  },
  {
   "cell_type": "code",
   "execution_count": 118,
   "metadata": {},
   "outputs": [
    {
     "name": "stdout",
     "output_type": "stream",
     "text": [
      "C-index score for predicting affinities of remaining pairs 0.7761225361589472\n",
      "C-index score for predicting affinities to known targets 0.7663808418539928\n",
      "C-index score for predicting affinities to unknown targets 0.6771307148920411\n"
     ]
    }
   ],
   "source": [
    "# Run the requested cross-validations and print the results.\n",
    "k = 20\n",
    "loocv_cindex_score = loo_cv_cindex(features_sc, labels, k)\n",
    "print(\"C-index score for predicting affinities of remaining pairs\", loocv_cindex_score)\n",
    "lpocv_target_cindex_score = lpo_cv_index_target(features_sc, labels, pairs[:, 1], k)\n",
    "print(\"C-index score for predicting affinities to known targets\", lpocv_target_cindex_score)\n",
    "lpocv_identify_cindex_score = lpo_cv_cindex_identify(features_sc, labels, pairs, k)\n",
    "print(\"C-index score for predicting affinities to unknown targets\", lpocv_identify_cindex_score)"
   ]
  },
  {
   "cell_type": "markdown",
   "metadata": {},
   "source": [
    "#### Interpret results"
   ]
  },
  {
   "cell_type": "markdown",
   "metadata": {},
   "source": [
    "- The model works fine for predicting the affinities of remaining pairs (accuracy ~78% is realistic)\n",
    "- For predicting the affinities of known targets the model works fine too (accuracy ~77% is realistic)\n",
    "- For predicting the affinities of unknown targets the model works alright but there could be some improvements (accuracy ~68%)"
   ]
  },
  {
   "cell_type": "markdown",
   "metadata": {},
   "source": [
    "\n",
    "\n",
    "- Maybe the k-parameter could be different for the different predictions"
   ]
  },
  {
   "cell_type": "markdown",
   "metadata": {},
   "source": [
    "- The cross-validation methods used in this document work because of maths"
   ]
  }
 ],
 "metadata": {
  "kernelspec": {
   "display_name": "Python 3",
   "language": "python",
   "name": "python3"
  },
  "language_info": {
   "codemirror_mode": {
    "name": "ipython",
    "version": 3
   },
   "file_extension": ".py",
   "mimetype": "text/x-python",
   "name": "python",
   "nbconvert_exporter": "python",
   "pygments_lexer": "ipython3",
   "version": "3.9.1"
  },
  "toc": {
   "base_numbering": 1,
   "nav_menu": {},
   "number_sections": false,
   "sideBar": true,
   "skip_h1_title": false,
   "title_cell": "Table of Contents",
   "title_sidebar": "Contents",
   "toc_cell": false,
   "toc_position": {},
   "toc_section_display": true,
   "toc_window_display": true
  },
  "varInspector": {
   "cols": {
    "lenName": 16,
    "lenType": 16,
    "lenVar": 40
   },
   "kernels_config": {
    "python": {
     "delete_cmd_postfix": "",
     "delete_cmd_prefix": "del ",
     "library": "var_list.py",
     "varRefreshCmd": "print(var_dic_list())"
    },
    "r": {
     "delete_cmd_postfix": ") ",
     "delete_cmd_prefix": "rm(",
     "library": "var_list.r",
     "varRefreshCmd": "cat(var_dic_list()) "
    }
   },
   "types_to_exclude": [
    "module",
    "function",
    "builtin_function_or_method",
    "instance",
    "_Feature"
   ],
   "window_display": false
  }
 },
 "nbformat": 4,
 "nbformat_minor": 2
}
